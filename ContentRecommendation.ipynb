{
 "cells": [
  {
   "cell_type": "code",
   "execution_count": 70,
   "metadata": {},
   "outputs": [],
   "source": [
    "# IMPORT LIBRARIES\n",
    "import numpy as np\n",
    "import pandas as pd\n"
   ]
  },
  {
   "cell_type": "markdown",
   "metadata": {},
   "source": [
    "# 1. Dataset\n",
    "\n",
    "* Use a small public dataset of items (e.g., a list of movies with plot summaries, or other textual descriptions).\n",
    "* Make sure the dataset is easy to handle (maybe 100–500 rows) so the solution remains quick to implement and run.\n",
    "* Include the dataset in your forked repository or provide instructions/link on how to download it.\n"
   ]
  },
  {
   "cell_type": "code",
   "execution_count": 71,
   "metadata": {},
   "outputs": [],
   "source": [
    "# In order to download the data, you can use the following code:\n",
    "# df.to_csv('DATA/top_100_movies.csv', index=False)\n",
    "\n",
    "# Or alternatiey, you can use this link to download the data:\n",
    "# https://www.kaggle.com/datasets/shreyasur965/imdb-top-100-movies-dataset?select=top_100_movies.csv"
   ]
  },
  {
   "cell_type": "code",
   "execution_count": 72,
   "metadata": {},
   "outputs": [
    {
     "name": "stdout",
     "output_type": "stream",
     "text": [
      "Data has between 100-500 rows\n"
     ]
    }
   ],
   "source": [
    "# After downloading...\n",
    "df = pd.read_csv('DATA/top_100_movies.csv')\n",
    "\n",
    "if len(df) >= 100 and len(df) <= 500:\n",
    "    print('Data has between 100-500 rows')"
   ]
  },
  {
   "cell_type": "code",
   "execution_count": 73,
   "metadata": {},
   "outputs": [
    {
     "data": {
      "text/html": [
       "<div>\n",
       "<style scoped>\n",
       "    .dataframe tbody tr th:only-of-type {\n",
       "        vertical-align: middle;\n",
       "    }\n",
       "\n",
       "    .dataframe tbody tr th {\n",
       "        vertical-align: top;\n",
       "    }\n",
       "\n",
       "    .dataframe thead th {\n",
       "        text-align: right;\n",
       "    }\n",
       "</style>\n",
       "<table border=\"1\" class=\"dataframe\">\n",
       "  <thead>\n",
       "    <tr style=\"text-align: right;\">\n",
       "      <th></th>\n",
       "      <th>rank</th>\n",
       "      <th>title</th>\n",
       "      <th>description</th>\n",
       "      <th>genre</th>\n",
       "      <th>rating</th>\n",
       "      <th>year</th>\n",
       "    </tr>\n",
       "  </thead>\n",
       "  <tbody>\n",
       "    <tr>\n",
       "      <th>0</th>\n",
       "      <td>1</td>\n",
       "      <td>The Shawshank Redemption</td>\n",
       "      <td>Two imprisoned men bond over a number of years...</td>\n",
       "      <td>['Drama']</td>\n",
       "      <td>9.3</td>\n",
       "      <td>1994</td>\n",
       "    </tr>\n",
       "    <tr>\n",
       "      <th>1</th>\n",
       "      <td>2</td>\n",
       "      <td>The Godfather</td>\n",
       "      <td>The aging patriarch of an organized crime dyna...</td>\n",
       "      <td>['Crime', 'Drama']</td>\n",
       "      <td>9.2</td>\n",
       "      <td>1972</td>\n",
       "    </tr>\n",
       "    <tr>\n",
       "      <th>2</th>\n",
       "      <td>3</td>\n",
       "      <td>The Dark Knight</td>\n",
       "      <td>When the menace known as the Joker wreaks havo...</td>\n",
       "      <td>['Action', 'Crime', 'Drama']</td>\n",
       "      <td>9.0</td>\n",
       "      <td>2008</td>\n",
       "    </tr>\n",
       "    <tr>\n",
       "      <th>3</th>\n",
       "      <td>4</td>\n",
       "      <td>The Godfather Part II</td>\n",
       "      <td>The early life and career of Vito Corleone in ...</td>\n",
       "      <td>['Crime', 'Drama']</td>\n",
       "      <td>9.0</td>\n",
       "      <td>1974</td>\n",
       "    </tr>\n",
       "    <tr>\n",
       "      <th>4</th>\n",
       "      <td>5</td>\n",
       "      <td>12 Angry Men</td>\n",
       "      <td>The jury in a New York City murder trial is fr...</td>\n",
       "      <td>['Crime', 'Drama']</td>\n",
       "      <td>9.0</td>\n",
       "      <td>1957</td>\n",
       "    </tr>\n",
       "  </tbody>\n",
       "</table>\n",
       "</div>"
      ],
      "text/plain": [
       "   rank                     title  \\\n",
       "0     1  The Shawshank Redemption   \n",
       "1     2             The Godfather   \n",
       "2     3           The Dark Knight   \n",
       "3     4     The Godfather Part II   \n",
       "4     5              12 Angry Men   \n",
       "\n",
       "                                         description  \\\n",
       "0  Two imprisoned men bond over a number of years...   \n",
       "1  The aging patriarch of an organized crime dyna...   \n",
       "2  When the menace known as the Joker wreaks havo...   \n",
       "3  The early life and career of Vito Corleone in ...   \n",
       "4  The jury in a New York City murder trial is fr...   \n",
       "\n",
       "                          genre  rating  year  \n",
       "0                     ['Drama']     9.3  1994  \n",
       "1            ['Crime', 'Drama']     9.2  1972  \n",
       "2  ['Action', 'Crime', 'Drama']     9.0  2008  \n",
       "3            ['Crime', 'Drama']     9.0  1974  \n",
       "4            ['Crime', 'Drama']     9.0  1957  "
      ]
     },
     "execution_count": 73,
     "metadata": {},
     "output_type": "execute_result"
    }
   ],
   "source": [
    "# Display the first 5 rows of the dataframe\n",
    "df.head()"
   ]
  },
  {
   "cell_type": "code",
   "execution_count": 74,
   "metadata": {},
   "outputs": [
    {
     "data": {
      "text/plain": [
       "rank           0\n",
       "title          0\n",
       "description    0\n",
       "genre          0\n",
       "rating         0\n",
       "year           0\n",
       "dtype: int64"
      ]
     },
     "execution_count": 74,
     "metadata": {},
     "output_type": "execute_result"
    }
   ],
   "source": [
    "# Check for NAN values (SANITY CHECK)\n",
    "df.isnull().sum()\n"
   ]
  },
  {
   "cell_type": "markdown",
   "metadata": {},
   "source": [
    "## I'd say the best approach is not worrying about the title since it can be misleading like the movie 'IT'. Which doesn't provide any relevance to someone but descriptions and genre 100% but what about years? and what about the movies release date? All will be accounted for."
   ]
  },
  {
   "cell_type": "markdown",
   "metadata": {},
   "source": [
    "# 2. Approach\n",
    "\n",
    "* Content-Based: At a minimum, use text similarity to recommend items.\n",
    "For instance, you can transform both the user’s text input and each item’s description into TF-IDF vectors and compute cosine similarity.\n",
    "\n",
    "* Return the top N similar items (e.g., top 5)."
   ]
  },
  {
   "cell_type": "code",
   "execution_count": null,
   "metadata": {},
   "outputs": [],
   "source": [
    "import re\n",
    "# %pip install sentence-transformers\n",
    "import os \n",
    "os.environ[\"TOKENIZERS_PARALLELISM\"] = \"false\" # disable parallelism to avoid deadlocks\n",
    "from sentence_transformers import SentenceTransformer\n",
    "\n",
    "# Load a BERT-based model for sentence embeddings\n",
    "model = SentenceTransformer('paraphrase-MiniLM-L6-v2')\n",
    "\n",
    "def build_vectors(user_input, df):\n",
    "    # Extract year and rating from user input (if specified)\n",
    "    rating_match = re.search(r'\\b(\\d\\.\\d|\\d)\\b', user_input)\n",
    "    year_match = re.search(r'\\b(19|20)\\d{2}\\b', user_input)\n",
    "    \n",
    "    # Convert text data to vectors (embeddings)\n",
    "    user_embedding = model.encode(user_input)\n",
    "    \n",
    "    # Embed movie descriptions\n",
    "    desc_embeddings = model.encode(df['description'].tolist())\n",
    "    \n",
    "    # Embed movie genres\n",
    "    genre_embeddings = model.encode(df['genre'].tolist())\n",
    "\n",
    "    # Return movie embeddings along with user embeddings, rating_match, and year_match\n",
    "    return desc_embeddings + genre_embeddings, user_embedding, rating_match, year_match"
   ]
  },
  {
   "cell_type": "code",
   "execution_count": null,
   "metadata": {},
   "outputs": [],
   "source": [
    "# YEAR THRESHOLD FUNCTION\n",
    "\n",
    "def extract_year_info(user_input):\n",
    "    \"\"\"Extracts year and modifier (before, after, during) from the input.\"\"\"\n",
    "    year_match = re.search(r'(?:(before|after|during)\\s+)?(19|20)\\d{2}', user_input, re.IGNORECASE)\n",
    "    \n",
    "    if year_match:\n",
    "        modifier = year_match.group(1)  # 'before', 'after', or 'during'\n",
    "        year = int(year_match.group(2))  # Correctly extract the year\n",
    "        return modifier, year\n",
    "    return None, None"
   ]
  },
  {
   "cell_type": "code",
   "execution_count": 84,
   "metadata": {},
   "outputs": [],
   "source": [
    "from sklearn.metrics.pairwise import cosine_similarity\n",
    "\n",
    "def recommend_movies(user_input, df, n):\n",
    "    movie_embeddings, user_embedding, rating_match, year_match = build_vectors(user_input, df)\n",
    "    \n",
    "    # Compute cosine similarity\n",
    "    similarities = cosine_similarity([user_embedding], movie_embeddings)[0]\n",
    "    \n",
    "    # Add similarity scores to dataframe (for top N recommendations later)\n",
    "    df['similarity'] = similarities\n",
    "    \n",
    "    # Apply rating filter (if specified)\n",
    "    if rating_match:\n",
    "        rating_threshold = float(rating_match.group())\n",
    "        df = df[df['rating'] >= rating_threshold]\n",
    "    \n",
    "    # Apply year filter (if specified)\n",
    "    if year_match:\n",
    "        year_threshold = int(year_match.group())\n",
    "        df = df[df['year'] >= year_threshold] # Only recommend movies from that year or later\n",
    "    \n",
    "    # Sort by similarity and return top 5 recommendations\n",
    "    top_movies = df.sort_values(by='similarity', ascending=False).head(n)\n",
    "    \n",
    "    # Return top 5 recommendations\n",
    "    return top_movies[['title', 'genre', 'rating', 'year', 'similarity']]"
   ]
  },
  {
   "cell_type": "markdown",
   "metadata": {},
   "source": [
    "# 3. Test it out!"
   ]
  },
  {
   "cell_type": "code",
   "execution_count": null,
   "metadata": {},
   "outputs": [
    {
     "name": "stdout",
     "output_type": "stream",
     "text": [
      "Invalid input. Using default value: 5\n"
     ]
    },
    {
     "data": {
      "text/html": [
       "<div>\n",
       "<style scoped>\n",
       "    .dataframe tbody tr th:only-of-type {\n",
       "        vertical-align: middle;\n",
       "    }\n",
       "\n",
       "    .dataframe tbody tr th {\n",
       "        vertical-align: top;\n",
       "    }\n",
       "\n",
       "    .dataframe thead th {\n",
       "        text-align: right;\n",
       "    }\n",
       "</style>\n",
       "<table border=\"1\" class=\"dataframe\">\n",
       "  <thead>\n",
       "    <tr style=\"text-align: right;\">\n",
       "      <th></th>\n",
       "      <th>title</th>\n",
       "      <th>genre</th>\n",
       "      <th>rating</th>\n",
       "      <th>year</th>\n",
       "      <th>similarity</th>\n",
       "    </tr>\n",
       "  </thead>\n",
       "  <tbody>\n",
       "    <tr>\n",
       "      <th>66</th>\n",
       "      <td>Spider-Man: Into the Spider-Verse</td>\n",
       "      <td>['Animation', 'Action', 'Adventure']</td>\n",
       "      <td>8.4</td>\n",
       "      <td>2018</td>\n",
       "      <td>0.374157</td>\n",
       "    </tr>\n",
       "    <tr>\n",
       "      <th>75</th>\n",
       "      <td>Avengers: Endgame</td>\n",
       "      <td>['Action', 'Adventure', 'Drama']</td>\n",
       "      <td>8.4</td>\n",
       "      <td>2019</td>\n",
       "      <td>0.334232</td>\n",
       "    </tr>\n",
       "    <tr>\n",
       "      <th>62</th>\n",
       "      <td>Avengers: Infinity War</td>\n",
       "      <td>['Action', 'Adventure', 'Sci-Fi']</td>\n",
       "      <td>8.4</td>\n",
       "      <td>2018</td>\n",
       "      <td>0.333136</td>\n",
       "    </tr>\n",
       "    <tr>\n",
       "      <th>90</th>\n",
       "      <td>Toy Story 3</td>\n",
       "      <td>['Animation', 'Adventure', 'Comedy']</td>\n",
       "      <td>8.3</td>\n",
       "      <td>2010</td>\n",
       "      <td>0.317053</td>\n",
       "    </tr>\n",
       "    <tr>\n",
       "      <th>14</th>\n",
       "      <td>Star Wars: Episode V - The Empire Strikes Back</td>\n",
       "      <td>['Action', 'Adventure', 'Fantasy']</td>\n",
       "      <td>8.7</td>\n",
       "      <td>1980</td>\n",
       "      <td>0.303080</td>\n",
       "    </tr>\n",
       "  </tbody>\n",
       "</table>\n",
       "</div>"
      ],
      "text/plain": [
       "                                             title  \\\n",
       "66               Spider-Man: Into the Spider-Verse   \n",
       "75                               Avengers: Endgame   \n",
       "62                          Avengers: Infinity War   \n",
       "90                                     Toy Story 3   \n",
       "14  Star Wars: Episode V - The Empire Strikes Back   \n",
       "\n",
       "                                   genre  rating  year  similarity  \n",
       "66  ['Animation', 'Action', 'Adventure']     8.4  2018    0.374157  \n",
       "75      ['Action', 'Adventure', 'Drama']     8.4  2019    0.334232  \n",
       "62     ['Action', 'Adventure', 'Sci-Fi']     8.4  2018    0.333136  \n",
       "90  ['Animation', 'Adventure', 'Comedy']     8.3  2010    0.317053  \n",
       "14    ['Action', 'Adventure', 'Fantasy']     8.7  1980    0.303080  "
      ]
     },
     "execution_count": 90,
     "metadata": {},
     "output_type": "execute_result"
    }
   ],
   "source": [
    "# Exampke usage\n",
    "\n",
    "try: # incase mistake is make in input\n",
    "    n = int(input(\"Enter the number of recommendations you want: \").strip() or 5)  # Default to 5 if input is empty\n",
    "except ValueError:\n",
    "    print(\"Invalid input. Using default value: 5\")\n",
    "    n = 5  # Default value\n",
    "\n",
    "user_input = \"I like marvel movies\"\n",
    "recommended_movies = recommend_movies(user_input, df, n)\n",
    "recommended_movies # returns df with top 5 recommendations"
   ]
  }
 ],
 "metadata": {
  "kernelspec": {
   "display_name": "Python 3",
   "language": "python",
   "name": "python3"
  },
  "language_info": {
   "codemirror_mode": {
    "name": "ipython",
    "version": 3
   },
   "file_extension": ".py",
   "mimetype": "text/x-python",
   "name": "python",
   "nbconvert_exporter": "python",
   "pygments_lexer": "ipython3",
   "version": "3.11.1"
  }
 },
 "nbformat": 4,
 "nbformat_minor": 2
}
